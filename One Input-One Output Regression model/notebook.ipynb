{
 "cells": [
  {
   "cell_type": "markdown",
   "metadata": {},
   "source": [
    "Importing Data"
   ]
  },
  {
   "cell_type": "code",
   "execution_count": 1,
   "metadata": {},
   "outputs": [
    {
     "data": {
      "text/html": [
       "<div>\n",
       "<style scoped>\n",
       "    .dataframe tbody tr th:only-of-type {\n",
       "        vertical-align: middle;\n",
       "    }\n",
       "\n",
       "    .dataframe tbody tr th {\n",
       "        vertical-align: top;\n",
       "    }\n",
       "\n",
       "    .dataframe thead th {\n",
       "        text-align: right;\n",
       "    }\n",
       "</style>\n",
       "<table border=\"1\" class=\"dataframe\">\n",
       "  <thead>\n",
       "    <tr style=\"text-align: right;\">\n",
       "      <th></th>\n",
       "      <th>season</th>\n",
       "      <th>team_1</th>\n",
       "      <th>team_2</th>\n",
       "      <th>home</th>\n",
       "      <th>score_diff</th>\n",
       "      <th>score_1</th>\n",
       "      <th>score_2</th>\n",
       "      <th>won</th>\n",
       "    </tr>\n",
       "  </thead>\n",
       "  <tbody>\n",
       "    <tr>\n",
       "      <th>0</th>\n",
       "      <td>1985</td>\n",
       "      <td>3745</td>\n",
       "      <td>6664</td>\n",
       "      <td>0</td>\n",
       "      <td>17</td>\n",
       "      <td>81</td>\n",
       "      <td>64</td>\n",
       "      <td>1</td>\n",
       "    </tr>\n",
       "    <tr>\n",
       "      <th>1</th>\n",
       "      <td>1985</td>\n",
       "      <td>126</td>\n",
       "      <td>7493</td>\n",
       "      <td>1</td>\n",
       "      <td>7</td>\n",
       "      <td>77</td>\n",
       "      <td>70</td>\n",
       "      <td>1</td>\n",
       "    </tr>\n",
       "    <tr>\n",
       "      <th>2</th>\n",
       "      <td>1985</td>\n",
       "      <td>288</td>\n",
       "      <td>3593</td>\n",
       "      <td>1</td>\n",
       "      <td>7</td>\n",
       "      <td>63</td>\n",
       "      <td>56</td>\n",
       "      <td>1</td>\n",
       "    </tr>\n",
       "    <tr>\n",
       "      <th>3</th>\n",
       "      <td>1985</td>\n",
       "      <td>1846</td>\n",
       "      <td>9881</td>\n",
       "      <td>1</td>\n",
       "      <td>16</td>\n",
       "      <td>70</td>\n",
       "      <td>54</td>\n",
       "      <td>1</td>\n",
       "    </tr>\n",
       "    <tr>\n",
       "      <th>4</th>\n",
       "      <td>1985</td>\n",
       "      <td>2675</td>\n",
       "      <td>10298</td>\n",
       "      <td>1</td>\n",
       "      <td>12</td>\n",
       "      <td>86</td>\n",
       "      <td>74</td>\n",
       "      <td>1</td>\n",
       "    </tr>\n",
       "  </tbody>\n",
       "</table>\n",
       "</div>"
      ],
      "text/plain": [
       "   season  team_1  team_2  home  score_diff  score_1  score_2  won\n",
       "0    1985    3745    6664     0          17       81       64    1\n",
       "1    1985     126    7493     1           7       77       70    1\n",
       "2    1985     288    3593     1           7       63       56    1\n",
       "3    1985    1846    9881     1          16       70       54    1\n",
       "4    1985    2675   10298     1          12       86       74    1"
      ]
     },
     "execution_count": 1,
     "metadata": {},
     "output_type": "execute_result"
    }
   ],
   "source": [
    "import pandas as pd\n",
    "games_season = pd.read_csv('games_season.csv')\n",
    "games_season.head()"
   ]
  },
  {
   "cell_type": "code",
   "execution_count": 2,
   "metadata": {},
   "outputs": [
    {
     "data": {
      "text/html": [
       "<div>\n",
       "<style scoped>\n",
       "    .dataframe tbody tr th:only-of-type {\n",
       "        vertical-align: middle;\n",
       "    }\n",
       "\n",
       "    .dataframe tbody tr th {\n",
       "        vertical-align: top;\n",
       "    }\n",
       "\n",
       "    .dataframe thead th {\n",
       "        text-align: right;\n",
       "    }\n",
       "</style>\n",
       "<table border=\"1\" class=\"dataframe\">\n",
       "  <thead>\n",
       "    <tr style=\"text-align: right;\">\n",
       "      <th></th>\n",
       "      <th>season</th>\n",
       "      <th>team_1</th>\n",
       "      <th>team_2</th>\n",
       "      <th>home</th>\n",
       "      <th>seed_diff</th>\n",
       "      <th>score_diff</th>\n",
       "      <th>score_1</th>\n",
       "      <th>score_2</th>\n",
       "      <th>won</th>\n",
       "    </tr>\n",
       "  </thead>\n",
       "  <tbody>\n",
       "    <tr>\n",
       "      <th>0</th>\n",
       "      <td>1985</td>\n",
       "      <td>288</td>\n",
       "      <td>73</td>\n",
       "      <td>0</td>\n",
       "      <td>-3</td>\n",
       "      <td>-9</td>\n",
       "      <td>41</td>\n",
       "      <td>50</td>\n",
       "      <td>0</td>\n",
       "    </tr>\n",
       "    <tr>\n",
       "      <th>1</th>\n",
       "      <td>1985</td>\n",
       "      <td>5929</td>\n",
       "      <td>73</td>\n",
       "      <td>0</td>\n",
       "      <td>4</td>\n",
       "      <td>6</td>\n",
       "      <td>61</td>\n",
       "      <td>55</td>\n",
       "      <td>1</td>\n",
       "    </tr>\n",
       "    <tr>\n",
       "      <th>2</th>\n",
       "      <td>1985</td>\n",
       "      <td>9884</td>\n",
       "      <td>73</td>\n",
       "      <td>0</td>\n",
       "      <td>5</td>\n",
       "      <td>-4</td>\n",
       "      <td>59</td>\n",
       "      <td>63</td>\n",
       "      <td>0</td>\n",
       "    </tr>\n",
       "    <tr>\n",
       "      <th>3</th>\n",
       "      <td>1985</td>\n",
       "      <td>73</td>\n",
       "      <td>288</td>\n",
       "      <td>0</td>\n",
       "      <td>3</td>\n",
       "      <td>9</td>\n",
       "      <td>50</td>\n",
       "      <td>41</td>\n",
       "      <td>1</td>\n",
       "    </tr>\n",
       "    <tr>\n",
       "      <th>4</th>\n",
       "      <td>1985</td>\n",
       "      <td>3920</td>\n",
       "      <td>410</td>\n",
       "      <td>0</td>\n",
       "      <td>1</td>\n",
       "      <td>-9</td>\n",
       "      <td>54</td>\n",
       "      <td>63</td>\n",
       "      <td>0</td>\n",
       "    </tr>\n",
       "  </tbody>\n",
       "</table>\n",
       "</div>"
      ],
      "text/plain": [
       "   season  team_1  team_2  home  seed_diff  score_diff  score_1  score_2  won\n",
       "0    1985     288      73     0         -3          -9       41       50    0\n",
       "1    1985    5929      73     0          4           6       61       55    1\n",
       "2    1985    9884      73     0          5          -4       59       63    0\n",
       "3    1985      73     288     0          3           9       50       41    1\n",
       "4    1985    3920     410     0          1          -9       54       63    0"
      ]
     },
     "execution_count": 2,
     "metadata": {},
     "output_type": "execute_result"
    }
   ],
   "source": [
    "games_tourney = pd.read_csv('games_tourney.csv')\n",
    "games_tourney.head()"
   ]
  },
  {
   "cell_type": "markdown",
   "metadata": {},
   "source": [
    "Preparing Keras input and dense layers"
   ]
  },
  {
   "cell_type": "code",
   "execution_count": 3,
   "metadata": {},
   "outputs": [
    {
     "name": "stderr",
     "output_type": "stream",
     "text": [
      "Using TensorFlow backend.\n",
      "WARNING: Logging before flag parsing goes to stderr.\n",
      "W0724 22:23:22.100953 140005288163072 deprecation_wrapper.py:119] From /usr/local/lib/python3.5/dist-packages/keras/backend/tensorflow_backend.py:74: The name tf.get_default_graph is deprecated. Please use tf.compat.v1.get_default_graph instead.\n",
      "\n",
      "W0724 22:23:22.121019 140005288163072 deprecation_wrapper.py:119] From /usr/local/lib/python3.5/dist-packages/keras/backend/tensorflow_backend.py:517: The name tf.placeholder is deprecated. Please use tf.compat.v1.placeholder instead.\n",
      "\n",
      "W0724 22:23:22.124112 140005288163072 deprecation_wrapper.py:119] From /usr/local/lib/python3.5/dist-packages/keras/backend/tensorflow_backend.py:4138: The name tf.random_uniform is deprecated. Please use tf.random.uniform instead.\n",
      "\n"
     ]
    }
   ],
   "source": [
    "# Load layers\n",
    "from keras.layers import Input, Dense\n",
    "\n",
    "# Input layer\n",
    "input_tensor = Input(shape=(1,))\n",
    "\n",
    "# Create a dense layer and connecting the dense layer to the input_tensor \n",
    "output_tensor = Dense(1)(input_tensor)"
   ]
  },
  {
   "cell_type": "markdown",
   "metadata": {},
   "source": [
    "Building & compiling model, with one input and one output"
   ]
  },
  {
   "cell_type": "code",
   "execution_count": 4,
   "metadata": {},
   "outputs": [
    {
     "name": "stderr",
     "output_type": "stream",
     "text": [
      "W0724 22:23:22.144837 140005288163072 deprecation_wrapper.py:119] From /usr/local/lib/python3.5/dist-packages/keras/optimizers.py:790: The name tf.train.Optimizer is deprecated. Please use tf.compat.v1.train.Optimizer instead.\n",
      "\n"
     ]
    }
   ],
   "source": [
    "from keras.models import Model\n",
    "model = Model(input_tensor, output_tensor)\n",
    "model.compile(optimizer='adam', loss='mean_absolute_error')"
   ]
  },
  {
   "cell_type": "markdown",
   "metadata": {},
   "source": [
    "Visualizing the model"
   ]
  },
  {
   "cell_type": "code",
   "execution_count": 5,
   "metadata": {},
   "outputs": [
    {
     "name": "stdout",
     "output_type": "stream",
     "text": [
      "_________________________________________________________________\n",
      "Layer (type)                 Output Shape              Param #   \n",
      "=================================================================\n",
      "input_1 (InputLayer)         (None, 1)                 0         \n",
      "_________________________________________________________________\n",
      "dense_1 (Dense)              (None, 1)                 2         \n",
      "=================================================================\n",
      "Total params: 2\n",
      "Trainable params: 2\n",
      "Non-trainable params: 0\n",
      "_________________________________________________________________\n"
     ]
    }
   ],
   "source": [
    "# Import the plotting function\n",
    "from keras.utils import plot_model\n",
    "import matplotlib.pyplot as plt\n",
    "\n",
    "# Summarize the model\n",
    "model.summary()\n",
    "\n"
   ]
  },
  {
   "cell_type": "markdown",
   "metadata": {},
   "source": [
    "Model has one input and one output.\n",
    "Input will be the seed difference (-15 to 15)\n",
    "Output will be the score difference (-50 to 50)\n"
   ]
  },
  {
   "cell_type": "code",
   "execution_count": 6,
   "metadata": {},
   "outputs": [
    {
     "name": "stderr",
     "output_type": "stream",
     "text": [
      "W0724 22:23:22.662553 140005288163072 deprecation_wrapper.py:119] From /usr/local/lib/python3.5/dist-packages/keras/backend/tensorflow_backend.py:986: The name tf.assign_add is deprecated. Please use tf.compat.v1.assign_add instead.\n",
      "\n",
      "W0724 22:23:22.707438 140005288163072 deprecation_wrapper.py:119] From /usr/local/lib/python3.5/dist-packages/keras/backend/tensorflow_backend.py:973: The name tf.assign is deprecated. Please use tf.compat.v1.assign instead.\n",
      "\n"
     ]
    },
    {
     "name": "stdout",
     "output_type": "stream",
     "text": [
      "Train on 2370 samples, validate on 593 samples\n",
      "Epoch 1/50\n",
      "2370/2370 [==============================] - 0s 74us/step - loss: 9.2557 - val_loss: 9.0374\n",
      "Epoch 2/50\n",
      "2370/2370 [==============================] - 0s 9us/step - loss: 9.2461 - val_loss: 9.0208\n",
      "Epoch 3/50\n",
      "2370/2370 [==============================] - 0s 13us/step - loss: 9.2376 - val_loss: 9.0072\n",
      "Epoch 4/50\n",
      "2370/2370 [==============================] - 0s 10us/step - loss: 9.2305 - val_loss: 8.9959\n",
      "Epoch 5/50\n",
      "2370/2370 [==============================] - 0s 11us/step - loss: 9.2243 - val_loss: 8.9857\n",
      "Epoch 6/50\n",
      "2370/2370 [==============================] - 0s 13us/step - loss: 9.2187 - val_loss: 8.9758\n",
      "Epoch 7/50\n",
      "2370/2370 [==============================] - 0s 11us/step - loss: 9.2153 - val_loss: 8.9704\n",
      "Epoch 8/50\n",
      "2370/2370 [==============================] - 0s 11us/step - loss: 9.2134 - val_loss: 8.9660\n",
      "Epoch 9/50\n",
      "2370/2370 [==============================] - 0s 11us/step - loss: 9.2121 - val_loss: 8.9614\n",
      "Epoch 10/50\n",
      "2370/2370 [==============================] - 0s 13us/step - loss: 9.2105 - val_loss: 8.9589\n",
      "Epoch 11/50\n",
      "2370/2370 [==============================] - 0s 12us/step - loss: 9.2098 - val_loss: 8.9562\n",
      "Epoch 12/50\n",
      "2370/2370 [==============================] - 0s 11us/step - loss: 9.2093 - val_loss: 8.9540\n",
      "Epoch 13/50\n",
      "2370/2370 [==============================] - 0s 12us/step - loss: 9.2089 - val_loss: 8.9510\n",
      "Epoch 14/50\n",
      "2370/2370 [==============================] - 0s 11us/step - loss: 9.2081 - val_loss: 8.9496\n",
      "Epoch 15/50\n",
      "2370/2370 [==============================] - 0s 12us/step - loss: 9.2078 - val_loss: 8.9469\n",
      "Epoch 16/50\n",
      "2370/2370 [==============================] - 0s 12us/step - loss: 9.2071 - val_loss: 8.9443\n",
      "Epoch 17/50\n",
      "2370/2370 [==============================] - 0s 13us/step - loss: 9.2065 - val_loss: 8.9430\n",
      "Epoch 18/50\n",
      "2370/2370 [==============================] - 0s 8us/step - loss: 9.2062 - val_loss: 8.9410\n",
      "Epoch 19/50\n",
      "2370/2370 [==============================] - 0s 12us/step - loss: 9.2059 - val_loss: 8.9387\n",
      "Epoch 20/50\n",
      "2370/2370 [==============================] - 0s 12us/step - loss: 9.2057 - val_loss: 8.9367\n",
      "Epoch 21/50\n",
      "2370/2370 [==============================] - 0s 11us/step - loss: 9.2058 - val_loss: 8.9363\n",
      "Epoch 22/50\n",
      "2370/2370 [==============================] - 0s 11us/step - loss: 9.2052 - val_loss: 8.9361\n",
      "Epoch 23/50\n",
      "2370/2370 [==============================] - 0s 14us/step - loss: 9.2053 - val_loss: 8.9362\n",
      "Epoch 24/50\n",
      "2370/2370 [==============================] - 0s 12us/step - loss: 9.2050 - val_loss: 8.9347\n",
      "Epoch 25/50\n",
      "2370/2370 [==============================] - 0s 14us/step - loss: 9.2049 - val_loss: 8.9340\n",
      "Epoch 26/50\n",
      "2370/2370 [==============================] - 0s 13us/step - loss: 9.2051 - val_loss: 8.9330\n",
      "Epoch 27/50\n",
      "2370/2370 [==============================] - 0s 13us/step - loss: 9.2048 - val_loss: 8.9330\n",
      "Epoch 28/50\n",
      "2370/2370 [==============================] - 0s 13us/step - loss: 9.2048 - val_loss: 8.9317\n",
      "Epoch 29/50\n",
      "2370/2370 [==============================] - 0s 14us/step - loss: 9.2047 - val_loss: 8.9316\n",
      "Epoch 30/50\n",
      "2370/2370 [==============================] - 0s 14us/step - loss: 9.2048 - val_loss: 8.9305\n",
      "Epoch 31/50\n",
      "2370/2370 [==============================] - 0s 13us/step - loss: 9.2047 - val_loss: 8.9301\n",
      "Epoch 32/50\n",
      "2370/2370 [==============================] - 0s 14us/step - loss: 9.2046 - val_loss: 8.9304\n",
      "Epoch 33/50\n",
      "2370/2370 [==============================] - 0s 13us/step - loss: 9.2047 - val_loss: 8.9299\n",
      "Epoch 34/50\n",
      "2370/2370 [==============================] - 0s 13us/step - loss: 9.2046 - val_loss: 8.9295\n",
      "Epoch 35/50\n",
      "2370/2370 [==============================] - 0s 11us/step - loss: 9.2046 - val_loss: 8.9300\n",
      "Epoch 36/50\n",
      "2370/2370 [==============================] - 0s 14us/step - loss: 9.2046 - val_loss: 8.9299\n",
      "Epoch 37/50\n",
      "2370/2370 [==============================] - 0s 18us/step - loss: 9.2045 - val_loss: 8.9291\n",
      "Epoch 38/50\n",
      "2370/2370 [==============================] - 0s 13us/step - loss: 9.2047 - val_loss: 8.9286\n",
      "Epoch 39/50\n",
      "2370/2370 [==============================] - 0s 14us/step - loss: 9.2045 - val_loss: 8.9279\n",
      "Epoch 40/50\n",
      "2370/2370 [==============================] - 0s 14us/step - loss: 9.2043 - val_loss: 8.9277\n",
      "Epoch 41/50\n",
      "2370/2370 [==============================] - 0s 13us/step - loss: 9.2044 - val_loss: 8.9279\n",
      "Epoch 42/50\n",
      "2370/2370 [==============================] - 0s 12us/step - loss: 9.2043 - val_loss: 8.9278\n",
      "Epoch 43/50\n",
      "2370/2370 [==============================] - 0s 11us/step - loss: 9.2044 - val_loss: 8.9273\n",
      "Epoch 44/50\n",
      "2370/2370 [==============================] - 0s 13us/step - loss: 9.2043 - val_loss: 8.9266\n",
      "Epoch 45/50\n",
      "2370/2370 [==============================] - 0s 9us/step - loss: 9.2042 - val_loss: 8.9264\n",
      "Epoch 46/50\n",
      "2370/2370 [==============================] - 0s 10us/step - loss: 9.2043 - val_loss: 8.9264\n",
      "Epoch 47/50\n",
      "2370/2370 [==============================] - 0s 10us/step - loss: 9.2044 - val_loss: 8.9250\n",
      "Epoch 48/50\n",
      "2370/2370 [==============================] - 0s 11us/step - loss: 9.2041 - val_loss: 8.9251\n",
      "Epoch 49/50\n",
      "2370/2370 [==============================] - 0s 12us/step - loss: 9.2042 - val_loss: 8.9255\n",
      "Epoch 50/50\n",
      "2370/2370 [==============================] - 0s 15us/step - loss: 9.2046 - val_loss: 8.9235\n"
     ]
    }
   ],
   "source": [
    "from sklearn.model_selection import train_test_split\n",
    "games = pd.read_csv('games_tourney.csv')\n",
    "X=games['seed_diff']\n",
    "y=games['score_diff']\n",
    "X_train,X_test,y_train,y_test=train_test_split(X,y,test_size=0.3,random_state=100)\n",
    "training=model.fit(X_train,y_train,epochs=50,batch_size=128,verbose=True,validation_split=0.2)"
   ]
  },
  {
   "cell_type": "code",
   "execution_count": 7,
   "metadata": {},
   "outputs": [
    {
     "data": {
      "text/plain": [
       "[<matplotlib.lines.Line2D at 0x7f54e03590f0>]"
      ]
     },
     "execution_count": 7,
     "metadata": {},
     "output_type": "execute_result"
    },
    {
     "data": {
      "image/png": "[encoded data removed]",
      "text/plain": [
       "<Figure size 432x288 with 1 Axes>"
      ]
     },
     "metadata": {
      "needs_background": "light"
     },
     "output_type": "display_data"
    }
   ],
   "source": [
    "import matplotlib.pyplot as plt\n",
    "%matplotlib inline\n",
    "plt.plot(training.history['loss'])\n",
    "plt.plot(training.history['val_loss'])"
   ]
  },
  {
   "cell_type": "code",
   "execution_count": 8,
   "metadata": {},
   "outputs": [
    {
     "name": "stdout",
     "output_type": "stream",
     "text": [
      "1271/1271 [==============================] - 0s 16us/step\n"
     ]
    },
    {
     "data": {
      "text/plain": [
       "9.150505300397295"
      ]
     },
     "execution_count": 8,
     "metadata": {},
     "output_type": "execute_result"
    }
   ],
   "source": [
    "model.evaluate(X_test,y_test,verbose=True)"
   ]
  },
  {
   "cell_type": "code",
   "execution_count": null,
   "metadata": {},
   "outputs": [],
   "source": []
  }
 ],
 "metadata": {
  "kernelspec": {
   "display_name": "Python 3",
   "language": "python",
   "name": "python3"
  },
  "language_info": {
   "codemirror_mode": {
    "name": "ipython",
    "version": 3
   },
   "file_extension": ".py",
   "mimetype": "text/x-python",
   "name": "python",
   "nbconvert_exporter": "python",
   "pygments_lexer": "ipython3",
   "version": "3.5.2"
  }
 },
 "nbformat": 4,
 "nbformat_minor": 2
}
