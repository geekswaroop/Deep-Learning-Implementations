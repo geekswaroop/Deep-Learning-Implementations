{
  "nbformat": 4,
  "nbformat_minor": 0,
  "metadata": {
    "colab": {
      "name": "Boston-HousePrices-Prediction.ipynb",
      "provenance": [],
      "collapsed_sections": []
    },
    "kernelspec": {
      "name": "python3",
      "display_name": "Python 3"
    }
  },
  "cells": [
    {
      "cell_type": "code",
      "metadata": {
        "id": "FrsigWsQmzuA",
        "colab_type": "code",
        "colab": {
          "base_uri": "https://localhost:8080/",
          "height": 114
        },
        "outputId": "a83396c4-246e-4366-cc4a-4f15e373cff6"
      },
      "source": [
        "import numpy as np\n",
        "import pandas as pd\n",
        "from keras.datasets import boston_housing\n",
        "(train_data, train_labels), (test_data, test_labels) = boston_housing.load_data()\n"
      ],
      "execution_count": 1,
      "outputs": [
        {
          "output_type": "stream",
          "text": [
            "Using TensorFlow backend.\n"
          ],
          "name": "stderr"
        },
        {
          "output_type": "display_data",
          "data": {
            "text/html": [
              "<p style=\"color: red;\">\n",
              "The default version of TensorFlow in Colab will soon switch to TensorFlow 2.x.<br>\n",
              "We recommend you <a href=\"https://www.tensorflow.org/guide/migrate\" target=\"_blank\">upgrade</a> now \n",
              "or ensure your notebook will continue to use TensorFlow 1.x via the <code>%tensorflow_version 1.x</code> magic:\n",
              "<a href=\"https://colab.research.google.com/notebooks/tensorflow_version.ipynb\" target=\"_blank\">more info</a>.</p>\n"
            ],
            "text/plain": [
              "<IPython.core.display.HTML object>"
            ]
          },
          "metadata": {
            "tags": []
          }
        },
        {
          "output_type": "stream",
          "text": [
            "Downloading data from https://s3.amazonaws.com/keras-datasets/boston_housing.npz\n",
            "57344/57026 [==============================] - 0s 6us/step\n"
          ],
          "name": "stdout"
        }
      ]
    },
    {
      "cell_type": "code",
      "metadata": {
        "id": "NBDvscikQGAa",
        "colab_type": "code",
        "colab": {
          "base_uri": "https://localhost:8080/",
          "height": 459
        },
        "outputId": "ef4ef364-f9c8-43fa-f8de-4f35d27f5415"
      },
      "source": [
        "print(train_data)\n",
        "print(test_data)\n"
      ],
      "execution_count": 21,
      "outputs": [
        {
          "output_type": "stream",
          "text": [
            "[[-0.27224633 -0.48361547 -0.43576161 ...  1.14850044  0.44807713\n",
            "   0.8252202 ]\n",
            " [-0.40342651  2.99178419 -1.33391162 ... -1.71818909  0.43190599\n",
            "  -1.32920239]\n",
            " [ 0.1249402  -0.48361547  1.0283258  ...  0.78447637  0.22061726\n",
            "  -1.30850006]\n",
            " ...\n",
            " [-0.40202987  0.99079651 -0.7415148  ... -0.71712291  0.07943894\n",
            "  -0.67776904]\n",
            " [-0.17292018 -0.48361547  1.24588095 ... -1.71818909 -0.98764362\n",
            "   0.42083466]\n",
            " [-0.40422614  2.04394792 -1.20161456 ... -1.30866202  0.23317118\n",
            "  -1.15392266]]\n",
            "[[1.80846e+01 0.00000e+00 1.81000e+01 ... 2.02000e+01 2.72500e+01\n",
            "  2.90500e+01]\n",
            " [1.23290e-01 0.00000e+00 1.00100e+01 ... 1.78000e+01 3.94950e+02\n",
            "  1.62100e+01]\n",
            " [5.49700e-02 0.00000e+00 5.19000e+00 ... 2.02000e+01 3.96900e+02\n",
            "  9.74000e+00]\n",
            " ...\n",
            " [1.83377e+00 0.00000e+00 1.95800e+01 ... 1.47000e+01 3.89610e+02\n",
            "  1.92000e+00]\n",
            " [3.58090e-01 0.00000e+00 6.20000e+00 ... 1.74000e+01 3.91700e+02\n",
            "  9.71000e+00]\n",
            " [2.92400e+00 0.00000e+00 1.95800e+01 ... 1.47000e+01 2.40160e+02\n",
            "  9.81000e+00]]\n"
          ],
          "name": "stdout"
        }
      ]
    },
    {
      "cell_type": "code",
      "metadata": {
        "id": "2bl8etngQL_Q",
        "colab_type": "code",
        "colab": {
          "base_uri": "https://localhost:8080/",
          "height": 34
        },
        "outputId": "f19b2293-3d53-400d-f763-996d1e294cc2"
      },
      "source": [
        "len(train_data)"
      ],
      "execution_count": 4,
      "outputs": [
        {
          "output_type": "execute_result",
          "data": {
            "text/plain": [
              "404"
            ]
          },
          "metadata": {
            "tags": []
          },
          "execution_count": 4
        }
      ]
    },
    {
      "cell_type": "code",
      "metadata": {
        "id": "xjwo6aAUQN-r",
        "colab_type": "code",
        "colab": {
          "base_uri": "https://localhost:8080/",
          "height": 51
        },
        "outputId": "96d76bc4-0336-4908-a6f8-8f41146016ea"
      },
      "source": [
        "print(train_data.shape)\n",
        "print(test_data.shape)"
      ],
      "execution_count": 8,
      "outputs": [
        {
          "output_type": "stream",
          "text": [
            "(404, 13)\n",
            "(102, 13)\n"
          ],
          "name": "stdout"
        }
      ]
    },
    {
      "cell_type": "code",
      "metadata": {
        "id": "0fGhraieQi-m",
        "colab_type": "code",
        "colab": {}
      },
      "source": [
        "#train_labels"
      ],
      "execution_count": 0,
      "outputs": []
    },
    {
      "cell_type": "code",
      "metadata": {
        "id": "zr0EqMedQ92a",
        "colab_type": "code",
        "colab": {}
      },
      "source": [
        "# from sklearn.preprocessing import normalize\n",
        "# train_data=normalize(train_data, axis=0)\n",
        "from sklearn.preprocessing import StandardScaler\n",
        "scaler = StandardScaler()\n",
        "scaler.fit(train_data)\n",
        "train_data=scaler.transform(train_data)\n",
        "test_data = scaler.transform(test_data)"
      ],
      "execution_count": 0,
      "outputs": []
    },
    {
      "cell_type": "code",
      "metadata": {
        "id": "NOnGYWDVRzGF",
        "colab_type": "code",
        "colab": {
          "base_uri": "https://localhost:8080/",
          "height": 459
        },
        "outputId": "e6a148ca-99d6-4468-d0a3-10d18bcb1844"
      },
      "source": [
        "print(train_data)\n",
        "print(test_data)"
      ],
      "execution_count": 24,
      "outputs": [
        {
          "output_type": "stream",
          "text": [
            "[[-0.27224633 -0.48361547 -0.43576161 ...  1.14850044  0.44807713\n",
            "   0.8252202 ]\n",
            " [-0.40342651  2.99178419 -1.33391162 ... -1.71818909  0.43190599\n",
            "  -1.32920239]\n",
            " [ 0.1249402  -0.48361547  1.0283258  ...  0.78447637  0.22061726\n",
            "  -1.30850006]\n",
            " ...\n",
            " [-0.40202987  0.99079651 -0.7415148  ... -0.71712291  0.07943894\n",
            "  -0.67776904]\n",
            " [-0.17292018 -0.48361547  1.24588095 ... -1.71818909 -0.98764362\n",
            "   0.42083466]\n",
            " [-0.40422614  2.04394792 -1.20161456 ... -1.30866202  0.23317118\n",
            "  -1.15392266]]\n",
            "[[ 1.80846000e+01 -4.39692287e-18  1.81000000e+01 ...  2.02000000e+01\n",
            "   2.72500000e+01  2.90500000e+01]\n",
            " [ 1.23290000e-01 -4.39692287e-18  1.00100000e+01 ...  1.78000000e+01\n",
            "   3.94950000e+02  1.62100000e+01]\n",
            " [ 5.49700000e-02 -4.39692287e-18  5.19000000e+00 ...  2.02000000e+01\n",
            "   3.96900000e+02  9.74000000e+00]\n",
            " ...\n",
            " [ 1.83377000e+00 -4.39692287e-18  1.95800000e+01 ...  1.47000000e+01\n",
            "   3.89610000e+02  1.92000000e+00]\n",
            " [ 3.58090000e-01 -4.39692287e-18  6.20000000e+00 ...  1.74000000e+01\n",
            "   3.91700000e+02  9.71000000e+00]\n",
            " [ 2.92400000e+00 -4.39692287e-18  1.95800000e+01 ...  1.47000000e+01\n",
            "   2.40160000e+02  9.81000000e+00]]\n"
          ],
          "name": "stdout"
        }
      ]
    },
    {
      "cell_type": "code",
      "metadata": {
        "id": "qSLI6YPbR6Tf",
        "colab_type": "code",
        "colab": {
          "base_uri": "https://localhost:8080/",
          "height": 153
        },
        "outputId": "06937307-b5dd-4f49-8609-a31db8d03adf"
      },
      "source": [
        "from keras import models\n",
        "from keras.layers import Dense\n",
        "model = models.Sequential()\n",
        "model.add(Dense(64, activation='relu', input_shape=(train_data.shape[1],)))\n",
        "model.add(Dense(64, activation='relu'))\n",
        "model.add(Dense(1))\n",
        "model.compile(optimizer='rmsprop', loss='mse', metrics=['mae'])"
      ],
      "execution_count": 25,
      "outputs": [
        {
          "output_type": "stream",
          "text": [
            "WARNING:tensorflow:From /usr/local/lib/python3.6/dist-packages/keras/backend/tensorflow_backend.py:66: The name tf.get_default_graph is deprecated. Please use tf.compat.v1.get_default_graph instead.\n",
            "\n",
            "WARNING:tensorflow:From /usr/local/lib/python3.6/dist-packages/keras/backend/tensorflow_backend.py:541: The name tf.placeholder is deprecated. Please use tf.compat.v1.placeholder instead.\n",
            "\n",
            "WARNING:tensorflow:From /usr/local/lib/python3.6/dist-packages/keras/backend/tensorflow_backend.py:4432: The name tf.random_uniform is deprecated. Please use tf.random.uniform instead.\n",
            "\n",
            "WARNING:tensorflow:From /usr/local/lib/python3.6/dist-packages/keras/optimizers.py:793: The name tf.train.Optimizer is deprecated. Please use tf.compat.v1.train.Optimizer instead.\n",
            "\n"
          ],
          "name": "stdout"
        }
      ]
    },
    {
      "cell_type": "code",
      "metadata": {
        "id": "TFejlQeQUbhF",
        "colab_type": "code",
        "colab": {}
      },
      "source": [
        ""
      ],
      "execution_count": 0,
      "outputs": []
    }
  ]
}